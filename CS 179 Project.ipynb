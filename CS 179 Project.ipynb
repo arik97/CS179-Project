{
 "cells": [
  {
   "cell_type": "markdown",
   "metadata": {},
   "source": [
    "# CS 179 Project"
   ]
  },
  {
   "cell_type": "code",
   "execution_count": 100,
   "metadata": {},
   "outputs": [],
   "source": [
    "import pyGM as gm\n",
    "import numpy as np \n",
    "import matplotlib.pyplot as plt\n",
    "%matplotlib inline\n",
    "import networkx as nx\n",
    "from pyGM.messagepass import LBP, NMF\n",
    "\n",
    "# Load training data and reduce (subsample) if desired\n",
    "\n",
    "# Read thru file to get numeric ids for each player \n",
    "with open('train.csv') as f: lines = f.read().split('\\n')\n",
    "with open('valid.csv') as f: lines2 = f.read().split('\\n')\n",
    "\n",
    "p = 0; playerid = {};\n",
    "for i in range(len(lines)):\n",
    "  csv = lines[i].split(',');\n",
    "  if len(csv) != 10: continue;   # parse error or blank line\n",
    "  player0,player1 = csv[1],csv[4];\n",
    "  if player0 not in playerid: playerid[player0]=p; p+=1;\n",
    "  if player1 not in playerid: playerid[player1]=p; p+=1;\n",
    "\n",
    "nplayers = len(playerid)\n",
    "playername = ['']*nplayers\n",
    "for player in playerid: playername[ playerid[player] ]=player;  # id to name lookup\n",
    "\n",
    "# Do we need this part?\n",
    "# # Sparsifying parameters (discard some training examples):\n",
    "# pKeep = 1.0   # fraction of edges to consider (immed. throw out 1-p edges)\n",
    "# nEdge = 3     # try to keep nEdge opponents per player (may be more; asymmetric)\n",
    "# nKeep = 5     # keep at most nKeep games per opponent pairs (play each other multiple times)\n",
    "\n",
    "# nplays, nwins = np.zeros( (nplayers,nplayers) ), np.zeros( (nplayers,nplayers) );\n",
    "# for i in range(len(lines)):\n",
    "#   csv = lines[i].split(',');\n",
    "#   if len(csv) != 10: continue;   # parse error or blank line\n",
    "#   a,b = playerid[csv[1]],playerid[csv[4]];\n",
    "#   aw,bw = csv[2]=='[winner]',csv[5]=='[winner]';\n",
    "#   if (np.random.rand() < pKeep):\n",
    "#     if (nplays[a,b] < nKeep) and ( ((nplays[a,:]>0).sum() < nEdge) or ((nplays[:,b]>0).sum() < nEdge) ):\n",
    "#       nplays[a,b] += 1; nplays[b,a]+=1; nwins[a,b] += aw; nwins[b,a] += bw;"
   ]
  },
  {
   "cell_type": "code",
   "execution_count": 125,
   "metadata": {},
   "outputs": [],
   "source": [
    "nlevels = 15\n",
    "scale = 0.3\n",
    "\n",
    "X = [None]*nplayers\n",
    "for i in range(nplayers):\n",
    "    X[i] = gm.Var(i, nlevels)\n",
    "\n",
    "Pwin = np.zeros( (nlevels,nlevels) )\n",
    "for i in range(nlevels):\n",
    "    for j in range(nlevels):\n",
    "        diff = i-j\n",
    "        Pwin[i,j] = (1.0/(1+np.exp(-scale*diff)))\n",
    "\n",
    "factors = [ gm.Factor([X[i]], 1.0/nlevels) for i in range(nplayers) ]\n",
    "pKeep = 0.15  # keep a fraction of the 193k games\n",
    "\n",
    "for i in range(len(lines)):\n",
    "    csv = lines[i].split(',')\n",
    "    if len(csv) != 10: continue\n",
    "    P1,P2 = playerid[csv[1]],playerid[csv[4]]\n",
    "    win = -1\n",
    "    if csv[2]=='[winner]':\n",
    "        win = 1\n",
    "    if P1>P2: P1,P2,win=P2,P1,-win\n",
    "    if P1 != P2 and np.random.rand() < pKeep:\n",
    "        factors.append(gm.Factor([X[P1],X[P2]], Pwin if win>0 else 1-Pwin) )"
   ]
  },
  {
   "cell_type": "code",
   "execution_count": 126,
   "metadata": {},
   "outputs": [],
   "source": [
    "model = gm.GraphModel(factors)\n",
    "model.makeMinimal()"
   ]
  },
  {
   "cell_type": "code",
   "execution_count": 127,
   "metadata": {},
   "outputs": [],
   "source": [
    "# This one gives an error\n",
    "#lnZ, bel = LBP(model, maxIter=10, verbose=True)"
   ]
  },
  {
   "cell_type": "code",
   "execution_count": 128,
   "metadata": {},
   "outputs": [
    {
     "name": "stdout",
     "output_type": "stream",
     "text": [
      "Iter 0: -29680.33984805207\n",
      "Iter 1: -18465.954538794475\n",
      "Iter 2: -18096.387694491677\n",
      "Iter 3: -17994.821942682076\n",
      "Iter 4: -17963.537384334693\n",
      "Iter 5: -17951.25327788402\n"
     ]
    }
   ],
   "source": [
    "lnZ, bel = NMF(model, maxIter=5, verbose=True)"
   ]
  },
  {
   "cell_type": "code",
   "execution_count": 129,
   "metadata": {},
   "outputs": [],
   "source": [
    "totalGames = 0\n",
    "correctlyPredictedGames = 0\n",
    "\n",
    "for i in range(len(lines2)):\n",
    "    csv = lines2[i].split(',')\n",
    "    if len(csv) != 10: continue\n",
    "    P1,P2 = playerid[csv[1]],playerid[csv[4]]\n",
    "    win = -1\n",
    "    if csv[2]=='[winner]':\n",
    "        win = 1\n",
    "    if P1>P2: P1,P2,win=P2,P1,-win\n",
    "    if P1 != P2:\n",
    "        totalGames += 1\n",
    "        predictedWin = (bel[P1]*bel[P2]*gm.Factor([X[P1],X[P2]],Pwin)).table.sum()\n",
    "        if((predictedWin > 0.5 and win == 1) or (predictedWin < 0.5 and win == -1)):\n",
    "            correctlyPredictedGames += 1"
   ]
  },
  {
   "cell_type": "code",
   "execution_count": 130,
   "metadata": {},
   "outputs": [
    {
     "name": "stdout",
     "output_type": "stream",
     "text": [
      "0.6672800961630517\n"
     ]
    }
   ],
   "source": [
    "print(correctlyPredictedGames / totalGames)"
   ]
  },
  {
   "cell_type": "code",
   "execution_count": null,
   "metadata": {},
   "outputs": [],
   "source": []
  }
 ],
 "metadata": {
  "kernelspec": {
   "display_name": "Python 3",
   "language": "python",
   "name": "python3"
  },
  "language_info": {
   "codemirror_mode": {
    "name": "ipython",
    "version": 3
   },
   "file_extension": ".py",
   "mimetype": "text/x-python",
   "name": "python",
   "nbconvert_exporter": "python",
   "pygments_lexer": "ipython3",
   "version": "3.6.5"
  }
 },
 "nbformat": 4,
 "nbformat_minor": 2
}
